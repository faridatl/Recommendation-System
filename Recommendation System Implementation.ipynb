{
 "cells": [
  {
   "cell_type": "code",
   "execution_count": 1,
   "id": "785388b6",
   "metadata": {},
   "outputs": [],
   "source": [
    "import pandas as pd\n",
    "import numpy as np"
   ]
  },
  {
   "cell_type": "code",
   "execution_count": 15,
   "id": "5be57c17",
   "metadata": {},
   "outputs": [],
   "source": [
    "df = pd.read_csv(\"views.csv\")\n",
    "f2 = df.copy()"
   ]
  },
  {
   "cell_type": "code",
   "execution_count": 16,
   "id": "07cd44b0",
   "metadata": {},
   "outputs": [],
   "source": [
    "history = f2.drop_duplicates(subset='Show Title')"
   ]
  },
  {
   "cell_type": "code",
   "execution_count": 17,
   "id": "d92526ea",
   "metadata": {},
   "outputs": [],
   "source": [
    "history = history.reset_index(drop=True)"
   ]
  },
  {
   "cell_type": "code",
   "execution_count": 18,
   "id": "258cdd90",
   "metadata": {},
   "outputs": [],
   "source": [
    "from sklearn.feature_extraction.text import TfidfVectorizer"
   ]
  },
  {
   "cell_type": "code",
   "execution_count": 19,
   "id": "57eaafd6",
   "metadata": {},
   "outputs": [
    {
     "data": {
      "text/plain": [
       "(417, 18)"
      ]
     },
     "execution_count": 19,
     "metadata": {},
     "output_type": "execute_result"
    }
   ],
   "source": [
    "tfidf = TfidfVectorizer(stop_words='english')\n",
    "\n",
    "tfidf_matrix = tfidf.fit_transform(history['Genre'])\n",
    "tfidf_matrix.shape"
   ]
  },
  {
   "cell_type": "code",
   "execution_count": 20,
   "id": "0a44ad82",
   "metadata": {},
   "outputs": [],
   "source": [
    "from sklearn.metrics.pairwise import linear_kernel\n",
    "cos_sim = linear_kernel(tfidf_matrix, tfidf_matrix)"
   ]
  },
  {
   "cell_type": "code",
   "execution_count": 21,
   "id": "b084b8e7",
   "metadata": {},
   "outputs": [],
   "source": [
    "indices = pd.Series(history.index,\n",
    "                   index=history['Show Title']).drop_duplicates()"
   ]
  },
  {
   "cell_type": "code",
   "execution_count": 22,
   "id": "6725b4a3",
   "metadata": {},
   "outputs": [],
   "source": [
    "def netflix_recs(title, cosine_sim=cos_sim):\n",
    "    index = indices[title]\n",
    "    sim_scores = list(enumerate(cos_sim[index]))\n",
    "    sim_scores = sorted(sim_scores, key=lambda x: x[1], reverse=True)\n",
    "    sim_scores = sim_scores[0:10]\n",
    "    showindices = [i[0] for i in sim_scores]\n",
    "    return df['Show Title'].iloc[showindices]"
   ]
  },
  {
   "cell_type": "code",
   "execution_count": 23,
   "id": "4267c452",
   "metadata": {},
   "outputs": [
    {
     "data": {
      "text/plain": [
       "1                  BEEF\n",
       "22      The Night Agent\n",
       "66             Legacies\n",
       "93             Legacies\n",
       "95     The Hunger Games\n",
       "148       The Originals\n",
       "253       New Amsterdam\n",
       "269       New Amsterdam\n",
       "273       New Amsterdam\n",
       "5                  BEEF\n",
       "Name: Show Title, dtype: object"
      ]
     },
     "execution_count": 23,
     "metadata": {},
     "output_type": "execute_result"
    }
   ],
   "source": [
    "netflix_recs(\"The West Wing\")"
   ]
  },
  {
   "cell_type": "code",
   "execution_count": null,
   "id": "07a5e92f",
   "metadata": {},
   "outputs": [],
   "source": []
  }
 ],
 "metadata": {
  "kernelspec": {
   "display_name": "Python 3 (ipykernel)",
   "language": "python",
   "name": "python3"
  },
  "language_info": {
   "codemirror_mode": {
    "name": "ipython",
    "version": 3
   },
   "file_extension": ".py",
   "mimetype": "text/x-python",
   "name": "python",
   "nbconvert_exporter": "python",
   "pygments_lexer": "ipython3",
   "version": "3.9.13"
  }
 },
 "nbformat": 4,
 "nbformat_minor": 5
}
